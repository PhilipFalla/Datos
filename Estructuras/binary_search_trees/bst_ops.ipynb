{
 "cells": [
  {
   "cell_type": "markdown",
   "metadata": {},
   "source": [
    "# BST DELETE\n",
    "---\n",
    "\n",
    "Philip Falla\n",
    "20240667"
   ]
  },
  {
   "cell_type": "code",
   "execution_count": 148,
   "metadata": {},
   "outputs": [],
   "source": [
    "from bst import BinarySearchTree\n",
    "import random"
   ]
  },
  {
   "cell_type": "code",
   "execution_count": 149,
   "metadata": {},
   "outputs": [],
   "source": [
    "tree = BinarySearchTree()"
   ]
  },
  {
   "cell_type": "code",
   "execution_count": 150,
   "metadata": {},
   "outputs": [],
   "source": [
    "# Generate a list with 25 random values between 1 and 100\n",
    "vals = random.sample(range(1, 49), 25)  # Ensure 25 unique values\n",
    "\n",
    "while(min(vals) == vals[0]):\n",
    "    random.shuffle(vals)  #Ensures a root with 2 children\n",
    "\n",
    "for val in vals:\n",
    "    tree.insert(val)"
   ]
  },
  {
   "cell_type": "code",
   "execution_count": 151,
   "metadata": {},
   "outputs": [
    {
     "name": "stdout",
     "output_type": "stream",
     "text": [
      "\n",
      "    ____________________31_____\n",
      "   /                           \\\n",
      " __9_____________             37___________\n",
      "/                \\           /             \\\n",
      "2_    __________20_         36    ________47_\n",
      "  \\  /             \\       /     /           \\\n",
      "  8 10_____       21___   34    39_______   48\n",
      " /         \\           \\                 \\\n",
      " 3        15_         28                46\n",
      "         /   \\       /                 /\n",
      "        13  17_     23              __45\n",
      "       /       \\                   /\n",
      "      11      18                  40_\n",
      "                                     \\\n",
      "                                    44\n"
     ]
    }
   ],
   "source": [
    "tree.print_pretty()"
   ]
  },
  {
   "cell_type": "markdown",
   "metadata": {},
   "source": [
    "## Delete - caso no. 1\n",
    "### Borrar un nodo sin hijos (leaf node). \n",
    "Considerando que los valores son random y cómo funciona el método de insert; al eliminar un el último elemento en agregarse se garantiza eliminar un leaf node."
   ]
  },
  {
   "cell_type": "code",
   "execution_count": 152,
   "metadata": {},
   "outputs": [
    {
     "name": "stdout",
     "output_type": "stream",
     "text": [
      "Deleting: 3...\n",
      "\n",
      "   ____________________31_____\n",
      "  /                           \\\n",
      " _9_____________             37___________\n",
      "/               \\           /             \\\n",
      "2    __________20_         36    ________47_\n",
      " \\  /             \\       /     /           \\\n",
      " 8 10_____       21___   34    39_______   48\n",
      "          \\           \\                 \\\n",
      "         15_         28                46\n",
      "        /   \\       /                 /\n",
      "       13  17_     23              __45\n",
      "      /       \\                   /\n",
      "     11      18                  40_\n",
      "                                    \\\n",
      "                                   44\n"
     ]
    }
   ],
   "source": [
    "ToDelete = vals.pop()\n",
    "\n",
    "print(f\"Deleting: {ToDelete}...\")\n",
    "\n",
    "tree.delete(ToDelete)\n",
    "tree.print_pretty()"
   ]
  },
  {
   "cell_type": "markdown",
   "metadata": {},
   "source": [
    "## Delete - caso no. 2\n",
    "### Borrar un nodo con solamente 1 hijo.\n",
    "Considerando que es random, implementé una función. Similar al search, este busca recursivamente hasta encontrar un arbol con solo 1 hijo. Con esto, ya se alimenta el valor del nodo a la función delete."
   ]
  },
  {
   "cell_type": "code",
   "execution_count": 153,
   "metadata": {},
   "outputs": [
    {
     "name": "stdout",
     "output_type": "stream",
     "text": [
      "Deleting: 2...\n",
      "\n",
      "  ____________________31_____\n",
      " /                           \\\n",
      " 9_____________             37___________\n",
      "/              \\           /             \\\n",
      "8   __________20_         36    ________47_\n",
      "   /             \\       /     /           \\\n",
      "  10_____       21___   34    39_______   48\n",
      "         \\           \\                 \\\n",
      "        15_         28                46\n",
      "       /   \\       /                 /\n",
      "      13  17_     23              __45\n",
      "     /       \\                   /\n",
      "    11      18                  40_\n",
      "                                   \\\n",
      "                                  44\n"
     ]
    }
   ],
   "source": [
    "ToDelete_node = tree.find_one_child_node(tree.root)\n",
    "\n",
    "ToDelete = ToDelete_node.data\n",
    "\n",
    "print(f\"Deleting: {ToDelete}...\")\n",
    "\n",
    "tree.delete(ToDelete)\n",
    "tree.print_pretty()"
   ]
  },
  {
   "cell_type": "markdown",
   "metadata": {},
   "source": [
    "## Delete - caso no. 3\n",
    "### Borrar un nodo con 2 hijos (usando in-order predecesor).\n",
    "Considerando que es random, para asegurar un nodo con 2 hijos, se usa el root.\n",
    "(Es muy improbable que el root solo tenga 1 hijo)"
   ]
  },
  {
   "cell_type": "code",
   "execution_count": 154,
   "metadata": {},
   "outputs": [
    {
     "name": "stdout",
     "output_type": "stream",
     "text": [
      "Deleting: 31...\n",
      "\n",
      "  __________________28_____\n",
      " /                         \\\n",
      " 9_____________           37___________\n",
      "/              \\         /             \\\n",
      "8   __________20_       36    ________47_\n",
      "   /             \\     /     /           \\\n",
      "  10_____       21_   34    39_______   48\n",
      "         \\         \\                 \\\n",
      "        15_       23                46\n",
      "       /   \\                       /\n",
      "      13  17_                   __45\n",
      "     /       \\                 /\n",
      "    11      18                40_\n",
      "                                 \\\n",
      "                                44\n"
     ]
    }
   ],
   "source": [
    "ToDelete = tree.root.data\n",
    "\n",
    "print(f\"Deleting: {ToDelete}...\")\n",
    "\n",
    "tree.delete(ToDelete)\n",
    "tree.print_pretty()"
   ]
  }
 ],
 "metadata": {
  "kernelspec": {
   "display_name": "Python 3",
   "language": "python",
   "name": "python3"
  },
  "language_info": {
   "codemirror_mode": {
    "name": "ipython",
    "version": 3
   },
   "file_extension": ".py",
   "mimetype": "text/x-python",
   "name": "python",
   "nbconvert_exporter": "python",
   "pygments_lexer": "ipython3",
   "version": "3.12.1"
  }
 },
 "nbformat": 4,
 "nbformat_minor": 2
}
