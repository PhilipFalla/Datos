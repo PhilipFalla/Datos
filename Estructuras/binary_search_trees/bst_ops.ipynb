{
 "cells": [
  {
   "cell_type": "markdown",
   "metadata": {},
   "source": [
    "# BST DELETE\n",
    "---\n",
    "\n",
    "Philip Falla\n",
    "20240667"
   ]
  },
  {
   "cell_type": "code",
   "execution_count": 120,
   "metadata": {},
   "outputs": [],
   "source": [
    "from bst import BinarySearchTree\n",
    "import random"
   ]
  },
  {
   "cell_type": "code",
   "execution_count": 121,
   "metadata": {},
   "outputs": [],
   "source": [
    "tree = BinarySearchTree()"
   ]
  },
  {
   "cell_type": "code",
   "execution_count": 122,
   "metadata": {},
   "outputs": [],
   "source": [
    "# Generate a list with 25 random values between 1 and 100\n",
    "vals = random.sample(range(1, 49), 25)  # Ensure 25 unique values\n",
    "\n",
    "while(min(vals) == vals[0]):\n",
    "    random.shuffle(vals)  #Ensures a root with 2 children\n",
    "\n",
    "for val in vals:\n",
    "    tree.insert(val)"
   ]
  },
  {
   "cell_type": "code",
   "execution_count": 123,
   "metadata": {},
   "outputs": [
    {
     "name": "stdout",
     "output_type": "stream",
     "text": [
      "\n",
      "      ____________________27___________\n",
      "     /                                 \\\n",
      "   _12_________                   ____44_____\n",
      "  /            \\                 /           \\\n",
      "  4       ____19_               38___     __48\n",
      " / \\     /       \\             /     \\   /\n",
      " 3 6    15___   21___         36    41  46_\n",
      "/      /     \\       \\       /     /       \\\n",
      "1     14    17      24___   32    39      47\n",
      "           /       /     \\\n",
      "          16      22    26\n",
      "                       /\n",
      "                      25\n"
     ]
    }
   ],
   "source": [
    "tree.print_pretty()"
   ]
  },
  {
   "cell_type": "markdown",
   "metadata": {},
   "source": [
    "## Delete - caso no. 1\n",
    "### Borrar un nodo sin hijos (leaf node). \n",
    "Considerando que los valores son random y cómo funciona el método de insert; al eliminar un el último elemento en agregarse se garantiza eliminar un leaf node."
   ]
  },
  {
   "cell_type": "code",
   "execution_count": 124,
   "metadata": {},
   "outputs": [
    {
     "name": "stdout",
     "output_type": "stream",
     "text": [
      "Deleting: 47...\n",
      "\n",
      "      ____________________27___________\n",
      "     /                                 \\\n",
      "   _12_________                   ____44___\n",
      "  /            \\                 /         \\\n",
      "  4       ____19_               38___     48\n",
      " / \\     /       \\             /     \\   /\n",
      " 3 6    15___   21___         36    41  46\n",
      "/      /     \\       \\       /     /\n",
      "1     14    17      24___   32    39\n",
      "           /       /     \\\n",
      "          16      22    26\n",
      "                       /\n",
      "                      25\n"
     ]
    }
   ],
   "source": [
    "ToDelete = vals.pop()\n",
    "\n",
    "print(f\"Deleting: {ToDelete}...\")\n",
    "\n",
    "tree.delete(ToDelete)\n",
    "tree.print_pretty()"
   ]
  },
  {
   "cell_type": "markdown",
   "metadata": {},
   "source": [
    "## Delete - caso no. 2\n",
    "### Borrar un nodo con solamente 1 hijo.\n",
    "Considerando que es random, implementé una función. Similar al search, este busca recursivamente hasta encontrar un arbol con solo 1 hijo. Con esto, ya se alimenta el valor del nodo a la función delete."
   ]
  },
  {
   "cell_type": "code",
   "execution_count": 125,
   "metadata": {},
   "outputs": [
    {
     "name": "stdout",
     "output_type": "stream",
     "text": [
      "Deleting: 3...\n",
      "\n",
      "     ____________________27___________\n",
      "    /                                 \\\n",
      "  _12_________                   ____44___\n",
      " /            \\                 /         \\\n",
      " 4       ____19_               38___     48\n",
      "/ \\     /       \\             /     \\   /\n",
      "1 6    15___   21___         36    41  46\n",
      "      /     \\       \\       /     /\n",
      "     14    17      24___   32    39\n",
      "          /       /     \\\n",
      "         16      22    26\n",
      "                      /\n",
      "                     25\n"
     ]
    }
   ],
   "source": [
    "ToDelete_node = tree.find_one_child_node(tree.root)\n",
    "\n",
    "ToDelete = ToDelete_node.data\n",
    "\n",
    "print(f\"Deleting: {ToDelete}...\")\n",
    "\n",
    "tree.delete(ToDelete)\n",
    "tree.print_pretty()"
   ]
  },
  {
   "cell_type": "markdown",
   "metadata": {},
   "source": [
    "## Delete - caso no. 3\n",
    "### Borrar un nodo con 2 hijos (usando in-order predecesor).\n",
    "Considerando que es random, para asegurar un nodo con 2 hijos, se usa el root.\n",
    "(Es muy improbable que el root solo tenga 1 hijo)"
   ]
  },
  {
   "cell_type": "code",
   "execution_count": 126,
   "metadata": {},
   "outputs": [
    {
     "name": "stdout",
     "output_type": "stream",
     "text": [
      "Deleting: 27...\n",
      "\n",
      "     __________________26___________\n",
      "    /                               \\\n",
      "  _12_________                 ____44___\n",
      " /            \\               /         \\\n",
      " 4       ____19_             38___     48\n",
      "/ \\     /       \\           /     \\   /\n",
      "1 6    15___   21___       36    41  46\n",
      "      /     \\       \\     /     /\n",
      "     14    17      24_   32    39\n",
      "          /       /   \\\n",
      "         16      22  25\n"
     ]
    }
   ],
   "source": [
    "ToDelete = tree.root.data\n",
    "\n",
    "print(f\"Deleting: {ToDelete}...\")\n",
    "\n",
    "tree.delete(ToDelete)\n",
    "tree.print_pretty()"
   ]
  }
 ],
 "metadata": {
  "kernelspec": {
   "display_name": "Python 3",
   "language": "python",
   "name": "python3"
  },
  "language_info": {
   "codemirror_mode": {
    "name": "ipython",
    "version": 3
   },
   "file_extension": ".py",
   "mimetype": "text/x-python",
   "name": "python",
   "nbconvert_exporter": "python",
   "pygments_lexer": "ipython3",
   "version": "3.12.1"
  }
 },
 "nbformat": 4,
 "nbformat_minor": 2
}
